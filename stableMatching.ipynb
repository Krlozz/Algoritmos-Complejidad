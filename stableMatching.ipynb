{
 "cells": [
  {
   "cell_type": "code",
   "execution_count": 22,
   "id": "7d0b5102-dbe0-4eb4-b9a6-7d465eeb605a",
   "metadata": {},
   "outputs": [
    {
     "name": "stdout",
     "output_type": "stream",
     "text": [
      "Atlanta\n",
      "Dealing with Atlanta\n",
      "Atlanta is tentatively matched to Yolanda\n",
      "Chicago\n",
      "Dealing with Chicago\n",
      "Chicago is tentatively matched to Xavier\n",
      "El Paso\n",
      "Dealing with El Paso\n",
      "El Paso is tentatively matched to Wayne\n",
      "Boston\n",
      "Dealing with Boston\n",
      "Boston is tentatively matched to Zeus\n",
      "Detroit\n",
      "Dealing with Detroit\n",
      "Zeus is already matched\n",
      "Zeus is satisfied with Boston\n",
      "Detroit is tentatively matched to Val\n",
      "Emparajamientos finales:\n",
      "[['Atlanta', 'Yolanda'], ['Chicago', 'Xavier'], ['El Paso', 'Wayne'], ['Boston', 'Zeus'], ['Detroit', 'Val']]\n"
     ]
    }
   ],
   "source": [
    "preferencias_hospital = {\n",
    "    'Atlanta' : ['Yolanda', 'Xavier', 'Zeus', 'Val', 'Wayne'],\n",
    "    'Boston' : ['Zeus', 'Xavier', 'Wayne', 'Yolanda', 'Val'],\n",
    "    'Chicago' : ['Xavier', 'Zeus', 'Yolanda', 'Val', 'Wayne'],\n",
    "    'Detroit' : ['Zeus', 'Val', 'Wayne', 'Xavier', 'Yolanda'],\n",
    "    'El Paso' : ['Wayne', 'Yolanda', 'Xavier', 'Vak', 'Zeus'],\n",
    "}\n",
    " \n",
    "preferencias_estudiante = {\n",
    "    'Val' : ['Chicago', 'El Paso', 'Atlanta', 'Detroit', 'Boston'],\n",
    "    'Wayne' : ['Atlanta', 'Detroit', 'El Paso', 'Boston', 'Chicago'],\n",
    "    'Xavier' : ['El Paso', 'Boston', 'Detroit', 'Chicago', 'Atlanta'],\n",
    "    'Yolanda' : ['Atlanta', 'Chicago', 'Boston', 'El Paso', 'Detroit'],\n",
    "    'Zeus' : ['Boston', 'Detroit', 'Chicago', 'Atlanta', 'El Paso'],\n",
    "}\n",
    "\n",
    "parejas_temp = []\n",
    "hospital_libre = [hospital for hospital in list(preferencias_hospital.keys())]\n",
    "\n",
    "def stableMatch():\n",
    "    while len(hospital_libre) > 0:\n",
    "        for hospital in hospital_libre:\n",
    "            print(hospital)\n",
    "            print(f\"Dealing with {hospital}\")\n",
    "            for estudiante in preferencias_hospital[hospital]:\n",
    "                emparejado = [coincidencias for coincidencias in parejas_temp if estudiante in coincidencias]\n",
    "\n",
    "                if not emparejado:\n",
    "                    parejas_temp.append([hospital, estudiante])\n",
    "                    hospital_libre.remove(hospital)\n",
    "                    print(f\"{hospital} is tentatively matched to {estudiante}\")\n",
    "                    break\n",
    "\n",
    "                else:\n",
    "                    print(f\"{estudiante} is already matched\")\n",
    "                    pareja_actual = preferencias_estudiante[estudiante].index(emparejado[0][0])\n",
    "                    pareja_potencial = preferencias_estudiante[estudiante].index(hospital)\n",
    "                ###Compare the ranking of the woman's current partner and the potential partner\n",
    "\n",
    "                    if pareja_potencial < pareja_actual:\n",
    "                        print(f\"{hospital} is more preffered than {taken_match[0][0]}\")\n",
    "                        print(f\"Unpair {emparejado[0][0]} and {estudiante}. Now, {hospital} is tentatively matched to {estudiante}\")\n",
    "\n",
    "                        # the potential guy is matched and the current guy is now free\n",
    "                        hospital_libre.remove(hospital)\n",
    "                        hospital_libre.append(emparejado[0][0])\n",
    "\n",
    "                        emparejado[0][0] = hospital\n",
    "                        break\n",
    "                    else:\n",
    "                        print(f\"{estudiante} is satisfied with {emparejado[0][0]}\")\n",
    "\n",
    "if __name__ == '__main__':\n",
    "    stableMatch()\n",
    "\n",
    "    print(f\"Emparajamientos finales:\\n{parejas_temp}\")"
   ]
  },
  {
   "cell_type": "code",
   "execution_count": null,
   "id": "bb0a5dfe-6b4f-4cb7-b344-261046c07e93",
   "metadata": {},
   "outputs": [],
   "source": []
  }
 ],
 "metadata": {
  "kernelspec": {
   "display_name": "Python 3 (ipykernel)",
   "language": "python",
   "name": "python3"
  },
  "language_info": {
   "codemirror_mode": {
    "name": "ipython",
    "version": 3
   },
   "file_extension": ".py",
   "mimetype": "text/x-python",
   "name": "python",
   "nbconvert_exporter": "python",
   "pygments_lexer": "ipython3",
   "version": "3.9.7"
  }
 },
 "nbformat": 4,
 "nbformat_minor": 5
}
