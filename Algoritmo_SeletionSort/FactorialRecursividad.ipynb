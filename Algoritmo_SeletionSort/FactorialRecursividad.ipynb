{
 "cells": [
  {
   "cell_type": "code",
   "execution_count": 3,
   "id": "0d31a352",
   "metadata": {},
   "outputs": [],
   "source": [
    "def factorial(numero):\n",
    "    if numero > 1:\n",
    "        numero = numero * factorial(numero -1)\n",
    "    return numero"
   ]
  },
  {
   "cell_type": "code",
   "execution_count": 4,
   "id": "cfe1ea12",
   "metadata": {},
   "outputs": [
    {
     "data": {
      "text/plain": [
       "720"
      ]
     },
     "execution_count": 4,
     "metadata": {},
     "output_type": "execute_result"
    }
   ],
   "source": [
    "factorial(6)"
   ]
  },
  {
   "cell_type": "code",
   "execution_count": 3,
   "id": "5e6e8a9b",
   "metadata": {},
   "outputs": [],
   "source": [
    "def suma(lista):\n",
    "    if len(lista)==0:\n",
    "        return 0\n",
    "    else:\n",
    "        print(suma(lista[1:]))\n",
    "        return lista[0] + suma(lista[1:])"
   ]
  },
  {
   "cell_type": "code",
   "execution_count": 4,
   "id": "d092164b",
   "metadata": {},
   "outputs": [],
   "source": [
    "lista = [7,6,1,4]"
   ]
  },
  {
   "cell_type": "code",
   "execution_count": 5,
   "id": "bd113943",
   "metadata": {},
   "outputs": [
    {
     "name": "stdout",
     "output_type": "stream",
     "text": [
      "0\n",
      "4\n",
      "0\n",
      "5\n",
      "0\n",
      "4\n",
      "0\n",
      "11\n",
      "0\n",
      "4\n",
      "0\n",
      "5\n",
      "0\n",
      "4\n",
      "0\n"
     ]
    },
    {
     "data": {
      "text/plain": [
       "18"
      ]
     },
     "execution_count": 5,
     "metadata": {},
     "output_type": "execute_result"
    }
   ],
   "source": [
    "suma(lista)"
   ]
  },
  {
   "cell_type": "code",
   "execution_count": 6,
   "id": "08532efa",
   "metadata": {},
   "outputs": [
    {
     "name": "stdout",
     "output_type": "stream",
     "text": [
      "[6, 1, 4]\n"
     ]
    }
   ],
   "source": [
    "print(lista[1:])"
   ]
  },
  {
   "cell_type": "code",
   "execution_count": null,
   "id": "52ceb94c",
   "metadata": {},
   "outputs": [],
   "source": []
  }
 ],
 "metadata": {
  "kernelspec": {
   "display_name": "Python 3 (ipykernel)",
   "language": "python",
   "name": "python3"
  },
  "language_info": {
   "codemirror_mode": {
    "name": "ipython",
    "version": 3
   },
   "file_extension": ".py",
   "mimetype": "text/x-python",
   "name": "python",
   "nbconvert_exporter": "python",
   "pygments_lexer": "ipython3",
   "version": "3.9.7"
  }
 },
 "nbformat": 4,
 "nbformat_minor": 5
}
