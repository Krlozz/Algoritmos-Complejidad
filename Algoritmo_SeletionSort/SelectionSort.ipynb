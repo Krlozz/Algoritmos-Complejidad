{
 "cells": [
  {
   "cell_type": "code",
   "execution_count": 41,
   "id": "7b116a02",
   "metadata": {},
   "outputs": [],
   "source": [
    "def findSmallest(arr):\n",
    "    smallest = arr[0]\n",
    "    smallest_index = 0\n",
    "    for i in range(1,len(arr)):\n",
    "        if arr[i] < smallest:\n",
    "            smallest_index = i\n",
    "            smallest = arr[i]\n",
    "    return smallest_index\n",
    "\n",
    "def selectionSort(arr):\n",
    "    newArr = []\n",
    "    for i in range(len(arr)):\n",
    "        smallest = findSmallest(arr)\n",
    "        newArr.append(arr.pop(smallest))\n",
    "    return newArr"
   ]
  },
  {
   "cell_type": "code",
   "execution_count": 50,
   "id": "ee4d8fc7",
   "metadata": {},
   "outputs": [],
   "source": [
    "def findBiggest(arr):\n",
    "    biggest = arr[0]\n",
    "    biggest_index = 0\n",
    "    for i in range(1,len(arr)):\n",
    "        if arr[i] > biggest:\n",
    "            biggest_index = i\n",
    "            biggest = arr[i]\n",
    "    return biggest_index\n",
    "\n",
    "def selectionSorted(arr):\n",
    "    newArr = []\n",
    "    for i in range(len(arr)):\n",
    "        biggest = findBiggest(arr)\n",
    "        newArr.append(arr.pop(biggest))\n",
    "    return newArr"
   ]
  },
  {
   "cell_type": "code",
   "execution_count": 58,
   "id": "befc6b2b",
   "metadata": {},
   "outputs": [
    {
     "data": {
      "text/plain": [
       "['Anibal', 'Carlos', 'Cris', 'Jose', 'Pepe', 'Valenta']"
      ]
     },
     "execution_count": 58,
     "metadata": {},
     "output_type": "execute_result"
    }
   ],
   "source": [
    "selectionSort([\"Carlos\", \"Jose\", \"Anibal\", \"Cris\", \"Valenta\", \"Pepe\"])"
   ]
  },
  {
   "cell_type": "code",
   "execution_count": 56,
   "id": "98a16060",
   "metadata": {},
   "outputs": [
    {
     "data": {
      "text/plain": [
       "[16, 10, 7, 5, 4, 2]"
      ]
     },
     "execution_count": 56,
     "metadata": {},
     "output_type": "execute_result"
    }
   ],
   "source": [
    "selectionSorted([5, 10, 2, 4, 16, 7])"
   ]
  },
  {
   "cell_type": "code",
   "execution_count": 57,
   "id": "9f3ddaad",
   "metadata": {},
   "outputs": [
    {
     "data": {
      "text/plain": [
       "[2, 4, 5, 7, 10, 16]"
      ]
     },
     "execution_count": 57,
     "metadata": {},
     "output_type": "execute_result"
    }
   ],
   "source": [
    "selectionSort([5, 10, 2, 4, 16, 7])"
   ]
  },
  {
   "cell_type": "code",
   "execution_count": 59,
   "id": "7987bbb2",
   "metadata": {},
   "outputs": [
    {
     "data": {
      "text/plain": [
       "['Valenta', 'Pepe', 'Jose', 'Cris', 'Carlos', 'Anibal']"
      ]
     },
     "execution_count": 59,
     "metadata": {},
     "output_type": "execute_result"
    }
   ],
   "source": [
    "selectionSorted([\"Carlos\", \"Jose\", \"Anibal\", \"Cris\", \"Valenta\", \"Pepe\"])"
   ]
  },
  {
   "cell_type": "code",
   "execution_count": null,
   "id": "cf3ce53b",
   "metadata": {},
   "outputs": [],
   "source": []
  }
 ],
 "metadata": {
  "kernelspec": {
   "display_name": "Python 3 (ipykernel)",
   "language": "python",
   "name": "python3"
  },
  "language_info": {
   "codemirror_mode": {
    "name": "ipython",
    "version": 3
   },
   "file_extension": ".py",
   "mimetype": "text/x-python",
   "name": "python",
   "nbconvert_exporter": "python",
   "pygments_lexer": "ipython3",
   "version": "3.9.7"
  }
 },
 "nbformat": 4,
 "nbformat_minor": 5
}
