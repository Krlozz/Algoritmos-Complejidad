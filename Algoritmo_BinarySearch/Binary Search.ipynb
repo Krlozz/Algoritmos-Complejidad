{
 "cells": [
  {
   "cell_type": "code",
   "execution_count": 9,
   "id": "651cbd79",
   "metadata": {},
   "outputs": [],
   "source": [
    "list1 = list(range(1,101))\n",
    "list2 = list(range(1,10001))"
   ]
  },
  {
   "cell_type": "code",
   "execution_count": 10,
   "id": "7f7963f7",
   "metadata": {},
   "outputs": [],
   "source": [
    "def binary_search(list, item):\n",
    "    low = 0\n",
    "    high = len(list) - 1\n",
    "    while low <= high:\n",
    "        mid = (low + high)//2\n",
    "        guess = list[mid]\n",
    "        if guess == item:\n",
    "            return mid\n",
    "        if guess > item:\n",
    "            high = mid - 1\n",
    "        else:\n",
    "            low = mid + 1\n",
    "    return None"
   ]
  },
  {
   "cell_type": "code",
   "execution_count": 14,
   "id": "723d7aae",
   "metadata": {},
   "outputs": [
    {
     "name": "stdout",
     "output_type": "stream",
     "text": [
      "98\n"
     ]
    }
   ],
   "source": [
    "print (binary_search(list1, 99))"
   ]
  },
  {
   "cell_type": "code",
   "execution_count": 18,
   "id": "5322e93a",
   "metadata": {},
   "outputs": [
    {
     "name": "stdout",
     "output_type": "stream",
     "text": [
      "7849\n"
     ]
    }
   ],
   "source": [
    "print (binary_search(list2, 7850))"
   ]
  },
  {
   "cell_type": "code",
   "execution_count": 38,
   "id": "dcdc062d",
   "metadata": {},
   "outputs": [
    {
     "name": "stdout",
     "output_type": "stream",
     "text": [
      "0.0\n"
     ]
    }
   ],
   "source": [
    "import time\n",
    "inicio = time.time()\n",
    "\n",
    "binary_search(list2, 7850)\n",
    "\n",
    "fin = time.time()\n",
    "\n",
    "print(fin-inicio)"
   ]
  },
  {
   "cell_type": "code",
   "execution_count": 21,
   "id": "4eb87e0b",
   "metadata": {},
   "outputs": [],
   "source": [
    "def simple_search(list, item):\n",
    "    for i in range (len(list)):\n",
    "        if list[i] == item:\n",
    "            return i\n",
    "    return None"
   ]
  },
  {
   "cell_type": "code",
   "execution_count": 22,
   "id": "01703b0e",
   "metadata": {},
   "outputs": [
    {
     "name": "stdout",
     "output_type": "stream",
     "text": [
      "98\n"
     ]
    }
   ],
   "source": [
    "print (simple_search(list1,99))"
   ]
  },
  {
   "cell_type": "code",
   "execution_count": 29,
   "id": "47041ef4",
   "metadata": {},
   "outputs": [
    {
     "name": "stdout",
     "output_type": "stream",
     "text": [
      "7849\n"
     ]
    }
   ],
   "source": [
    "print (simple_search(list2,7850))"
   ]
  },
  {
   "cell_type": "code",
   "execution_count": 42,
   "id": "82d29258",
   "metadata": {},
   "outputs": [
    {
     "name": "stdout",
     "output_type": "stream",
     "text": [
      "0.0009639263153076172\n"
     ]
    }
   ],
   "source": [
    "import time\n",
    "inicio = time.time()\n",
    "\n",
    "simple_search(list2,7850)\n",
    "\n",
    "fin = time.time()\n",
    "\n",
    "print(fin-inicio)"
   ]
  },
  {
   "cell_type": "code",
   "execution_count": 3,
   "id": "b0650719",
   "metadata": {},
   "outputs": [
    {
     "data": {
      "text/plain": [
       "3"
      ]
     },
     "execution_count": 3,
     "metadata": {},
     "output_type": "execute_result"
    }
   ],
   "source": [
    "(0+6)//2"
   ]
  },
  {
   "cell_type": "code",
   "execution_count": null,
   "id": "1eb1ea5e",
   "metadata": {},
   "outputs": [],
   "source": []
  }
 ],
 "metadata": {
  "kernelspec": {
   "display_name": "Python 3 (ipykernel)",
   "language": "python",
   "name": "python3"
  },
  "language_info": {
   "codemirror_mode": {
    "name": "ipython",
    "version": 3
   },
   "file_extension": ".py",
   "mimetype": "text/x-python",
   "name": "python",
   "nbconvert_exporter": "python",
   "pygments_lexer": "ipython3",
   "version": "3.9.7"
  }
 },
 "nbformat": 4,
 "nbformat_minor": 5
}
