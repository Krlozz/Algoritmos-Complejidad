{
 "cells": [
  {
   "cell_type": "code",
   "execution_count": 1,
   "id": "d9d9b324",
   "metadata": {},
   "outputs": [],
   "source": [
    "from collections import deque"
   ]
  },
  {
   "cell_type": "code",
   "execution_count": 2,
   "id": "991b1382",
   "metadata": {},
   "outputs": [],
   "source": [
    "class Vertice:\n",
    "    vecinos=[]\n",
    "    def __init__(self, i):\n",
    "        self.d=i\n",
    "        self.visitado=False\n",
    "        self.nivel=-1\n",
    "        self.padre=None\n",
    "        self.vecinos=[]\n",
    "        self.esHijo=False\n",
    "    def agregarVecino(self,v):\n",
    "        if v not in self.vecinos:\n",
    "            self.vecinos.append(v)"
   ]
  },
  {
   "cell_type": "code",
   "execution_count": 3,
   "id": "a45d6090",
   "metadata": {},
   "outputs": [],
   "source": [
    "class Grafos:\n",
    "    vertices={}\n",
    "    cola=deque()\n",
    "\n",
    "    def __init_(self):\n",
    "        self.vertices={}\n",
    "\n",
    "    def crearAbol(self, g):\n",
    "        for d in g:\n",
    "            self.agregarVertice(d)\n",
    "        for clave in g:\n",
    "            for c in g[clave]:\n",
    "                self.agregarArista(clave,c) \n",
    "\n",
    "    def agregarVertice(self,v):\n",
    "        if v not in self.vertices:\n",
    "            self.vertices[v]=Vertice(v)\n",
    "\n",
    "    def agregarArista(self,a,b):\n",
    "        if a in self.vertices and b in self.vertices:\n",
    "            self.vertices[a].agregarVecino(b)\n",
    "    \n",
    "    # BFS\n",
    "    def bfs(self,r):\n",
    "        if r in self.vertices:\n",
    "            self.vertices[r].visitado=True \n",
    "            for nodo in self.vertices[r].vecinos:\n",
    "                if self.vertices[nodo].esHijo==False:\n",
    "                    self.vertices[nodo].padre=r\n",
    "                    self.vertices[nodo].esHijo=True\n",
    "                    self.cola.append(nodo);\n",
    "                    print(\"(\"+str(r)+\", \"+str(nodo)+\")\") \n",
    "            if self.cola:\n",
    "                self.bfs(self.cola.popleft())\n",
    "    # DFS\n",
    "    def dfs(self,r):\n",
    "        if r in self.vertices:\n",
    "            self.vertices[r].visitado=True \n",
    "            for nodo in self.vertices[r].vecinos:\n",
    "                if self.vertices[nodo].visitado==False:\n",
    "                    self.vertices[nodo].padre=r\n",
    "                    print(\"(\"+str(r)+\", \"+str(nodo)+\")\")\n",
    "                    self.dfs(nodo)"
   ]
  },
  {
   "cell_type": "code",
   "execution_count": 4,
   "id": "c4f104ed",
   "metadata": {},
   "outputs": [
    {
     "name": "stdout",
     "output_type": "stream",
     "text": [
      "Árbol DFS\n",
      "(0, 2)\n",
      "(2, 1)\n",
      "(2, 3)\n",
      "(3, 5)\n",
      "(3, 4)\n"
     ]
    }
   ],
   "source": [
    "def main():\n",
    "    g={\n",
    "        0:[2,1,5],\n",
    "        1:[0,2],\n",
    "        2:[0,1,3,4],\n",
    "        3:[5,4,2],\n",
    "        4:[3,2],\n",
    "        5:[3,0]\n",
    "    }\n",
    "    print (\"Árbol DFS\")\n",
    "    grafo=Grafos()\n",
    "    grafo.crearAbol(g);\n",
    "    grafo.dfs(0)\n",
    "main()"
   ]
  },
  {
   "cell_type": "code",
   "execution_count": 5,
   "id": "622d37c9",
   "metadata": {},
   "outputs": [
    {
     "name": "stdout",
     "output_type": "stream",
     "text": [
      "Árbol BFS\n",
      "(0, 2)\n",
      "(0, 1)\n",
      "(0, 5)\n",
      "(2, 0)\n",
      "(2, 3)\n",
      "(2, 4)\n"
     ]
    }
   ],
   "source": [
    "def main():\n",
    "    g={\n",
    "        0:[2,1,5],\n",
    "        1:[0,2],\n",
    "        2:[0,1,3,4],\n",
    "        3:[5,4,2],\n",
    "        4:[3,2],\n",
    "        5:[3,0]\n",
    "    }\n",
    "    print (\"Árbol BFS\")\n",
    "    grafo=Grafos()\n",
    "    grafo.crearAbol(g);\n",
    "    grafo.bfs(0)\n",
    "main()"
   ]
  }
 ],
 "metadata": {
  "kernelspec": {
   "display_name": "Python 3 (ipykernel)",
   "language": "python",
   "name": "python3"
  },
  "language_info": {
   "codemirror_mode": {
    "name": "ipython",
    "version": 3
   },
   "file_extension": ".py",
   "mimetype": "text/x-python",
   "name": "python",
   "nbconvert_exporter": "python",
   "pygments_lexer": "ipython3",
   "version": "3.9.7"
  }
 },
 "nbformat": 4,
 "nbformat_minor": 5
}
