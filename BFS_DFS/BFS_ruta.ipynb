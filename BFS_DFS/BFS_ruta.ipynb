{
 "cells": [
  {
   "cell_type": "code",
   "execution_count": 1,
   "id": "840da373",
   "metadata": {},
   "outputs": [],
   "source": [
    "from collections import deque"
   ]
  },
  {
   "cell_type": "code",
   "execution_count": 2,
   "id": "34adab3f",
   "metadata": {},
   "outputs": [],
   "source": [
    "class Vertice:\n",
    "    vecinos=[]\n",
    "    def __init__(self, i):\n",
    "        self.d=i\n",
    "        self.visitado=False\n",
    "        self.nivel=-1\n",
    "        self.padre=None\n",
    "        self.vecinos=[]\n",
    "        self.esHijo=False\n",
    "    def agregarVecino(self,v):\n",
    "        if v not in self.vecinos:\n",
    "            self.vecinos.append(v)"
   ]
  },
  {
   "cell_type": "code",
   "execution_count": 3,
   "id": "b645188a",
   "metadata": {},
   "outputs": [],
   "source": [
    "class Grafos:\n",
    "    vertices={}\n",
    "    cola=deque()\n",
    "\n",
    "    def __init_(self):\n",
    "        self.vertices={}\n",
    "\n",
    "    def crearAbol(self, g):\n",
    "        for d in g:\n",
    "            self.agregarVertice(d)\n",
    "        for clave in g:\n",
    "            for c in g[clave]:\n",
    "                self.agregarArista(clave,c) \n",
    "\n",
    "    def agregarVertice(self,v):\n",
    "        if v not in self.vertices:\n",
    "            self.vertices[v]=Vertice(v)\n",
    "\n",
    "    def agregarArista(self,a,b):\n",
    "        if a in self.vertices and b in self.vertices:\n",
    "            self.vertices[a].agregarVecino(b)\n",
    "\n",
    "    def bfs(self,r):\n",
    "        if r in self.vertices:\n",
    "            self.vertices[r].visitado=True \n",
    "            for nodo in self.vertices[r].vecinos:\n",
    "                if self.vertices[nodo].esHijo==False:\n",
    "                    self.vertices[nodo].padre=r\n",
    "                    self.vertices[nodo].esHijo=True\n",
    "                    self.cola.append(nodo);\n",
    "                    print(\"(\"+str(r)+\", \"+str(nodo)+\")\") \n",
    "            if self.cola:\n",
    "                self.bfs(self.cola.popleft())\n",
    "\n",
    "    def imprimirCamino(self,nodo):\n",
    "        ruta=[]\n",
    "        ruta.append(nodo)\n",
    "        if(self.vertices[nodo].padre): \n",
    "            self.imprimirCamino(self.vertices[nodo].padre)\n",
    "        for r in ruta:\n",
    "                print( r+\" \", end=\"\")"
   ]
  },
  {
   "cell_type": "code",
   "execution_count": 4,
   "id": "e3b2830a",
   "metadata": {},
   "outputs": [
    {
     "name": "stdout",
     "output_type": "stream",
     "text": [
      "Árbol BFS\n",
      "(cab, car)\n",
      "(cab, cat)\n",
      "(car, bar)\n",
      "(cat, bat)\n",
      "(cat, mat)\n",
      "Ruta\n",
      "cab cat bat "
     ]
    }
   ],
   "source": [
    "def main():\n",
    "    g={\n",
    "    \"cab\":[\"car\",\"cat\"],\n",
    "    \"car\":[\"bar\",\"cat\"],\n",
    "    \"cat\":[\"bat\",\"mat\"],\n",
    "    \"mat\":[\"bat\"],\n",
    "    \"bat\":[],\n",
    "    \"bar\":[\"bat\"]\n",
    "    }\n",
    "    print (\"Árbol BFS\")\n",
    "    grafo=Grafos()\n",
    "    grafo.crearAbol(g);     #genera árbol BFS\n",
    "    grafo.bfs(\"cab\")\n",
    "    print(\"Ruta\")\n",
    "    grafo.imprimirCamino(\"bat\") \n",
    "main()"
   ]
  },
  {
   "cell_type": "code",
   "execution_count": null,
   "id": "912f867a",
   "metadata": {},
   "outputs": [],
   "source": []
  }
 ],
 "metadata": {
  "kernelspec": {
   "display_name": "Python 3 (ipykernel)",
   "language": "python",
   "name": "python3"
  },
  "language_info": {
   "codemirror_mode": {
    "name": "ipython",
    "version": 3
   },
   "file_extension": ".py",
   "mimetype": "text/x-python",
   "name": "python",
   "nbconvert_exporter": "python",
   "pygments_lexer": "ipython3",
   "version": "3.9.7"
  }
 },
 "nbformat": 4,
 "nbformat_minor": 5
}
