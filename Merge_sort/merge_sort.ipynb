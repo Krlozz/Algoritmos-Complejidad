{
 "cells": [
  {
   "cell_type": "code",
   "execution_count": 77,
   "id": "ac9d0ff1",
   "metadata": {},
   "outputs": [],
   "source": [
    "def mergeSort(array):\n",
    "    if len(array) > 1:\n",
    "        mid = len(array) // 2\n",
    "        left = array[:mid]\n",
    "        right = array[mid:]\n",
    "        print(left)\n",
    "        print(right)\n",
    "        \n",
    "        mergeSort(left)\n",
    "        mergeSort(right)\n",
    "        \n",
    "        i = 0\n",
    "        j = 0        \n",
    "        k = 0\n",
    "\n",
    "        while i < len(left) and j < len(right):\n",
    "            if left[i] <= right[j]:\n",
    "                array[k] = left[i]\n",
    "                i += 1\n",
    "                print('if', array[k])\n",
    "            else:\n",
    "                array[k] = right[j]\n",
    "                j += 1\n",
    "                print('else', array[k])\n",
    "            k += 1\n",
    "            print('ordenado',array)\n",
    "        while i < len(left):\n",
    "            array[k] = left[i]\n",
    "            i += 1\n",
    "            k += 1\n",
    "        while j < len(right):\n",
    "            array[k]=right[j]\n",
    "            j += 1\n",
    "            k += 1\n",
    "    \n",
    "    return array"
   ]
  },
  {
   "cell_type": "code",
   "execution_count": 78,
   "id": "8e1ada1a",
   "metadata": {},
   "outputs": [],
   "source": [
    "array = [6,4,2,0,8,9,3,7]"
   ]
  },
  {
   "cell_type": "code",
   "execution_count": 79,
   "id": "ef39a295",
   "metadata": {},
   "outputs": [
    {
     "name": "stdout",
     "output_type": "stream",
     "text": [
      "[6, 4, 2, 0]\n",
      "[8, 9, 3, 7]\n",
      "[6, 4]\n",
      "[2, 0]\n",
      "[6]\n",
      "[4]\n",
      "else 4\n",
      "ordenado [4, 4]\n",
      "[2]\n",
      "[0]\n",
      "else 0\n",
      "ordenado [0, 0]\n",
      "else 0\n",
      "ordenado [0, 4, 2, 0]\n",
      "else 2\n",
      "ordenado [0, 2, 2, 0]\n",
      "[8, 9]\n",
      "[3, 7]\n",
      "[8]\n",
      "[9]\n",
      "if 8\n",
      "ordenado [8, 9]\n",
      "[3]\n",
      "[7]\n",
      "if 3\n",
      "ordenado [3, 7]\n",
      "else 3\n",
      "ordenado [3, 9, 3, 7]\n",
      "else 7\n",
      "ordenado [3, 7, 3, 7]\n",
      "if 0\n",
      "ordenado [0, 4, 2, 0, 8, 9, 3, 7]\n",
      "if 2\n",
      "ordenado [0, 2, 2, 0, 8, 9, 3, 7]\n",
      "else 3\n",
      "ordenado [0, 2, 3, 0, 8, 9, 3, 7]\n",
      "if 4\n",
      "ordenado [0, 2, 3, 4, 8, 9, 3, 7]\n",
      "if 6\n",
      "ordenado [0, 2, 3, 4, 6, 9, 3, 7]\n"
     ]
    },
    {
     "data": {
      "text/plain": [
       "[0, 2, 3, 4, 6, 7, 8, 9]"
      ]
     },
     "execution_count": 79,
     "metadata": {},
     "output_type": "execute_result"
    }
   ],
   "source": [
    "mergeSort(array)"
   ]
  },
  {
   "cell_type": "code",
   "execution_count": null,
   "id": "0b75ae89",
   "metadata": {},
   "outputs": [],
   "source": []
  }
 ],
 "metadata": {
  "kernelspec": {
   "display_name": "Python 3 (ipykernel)",
   "language": "python",
   "name": "python3"
  },
  "language_info": {
   "codemirror_mode": {
    "name": "ipython",
    "version": 3
   },
   "file_extension": ".py",
   "mimetype": "text/x-python",
   "name": "python",
   "nbconvert_exporter": "python",
   "pygments_lexer": "ipython3",
   "version": "3.9.7"
  }
 },
 "nbformat": 4,
 "nbformat_minor": 5
}
