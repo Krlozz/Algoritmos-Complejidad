{
 "cells": [
  {
   "cell_type": "code",
   "execution_count": 1,
   "id": "01caaf64",
   "metadata": {},
   "outputs": [],
   "source": [
    "def knapsack(pMochila, pesos, valores, n):\n",
    "    mochilas = [[0 for x in range(pMochila + 1)] for x in range(n + 1)]\n",
    "\n",
    "    for i in range(n + 1):\n",
    "        for w in range(pMochila + 1):\n",
    "            if i == 0 or w == 0:\n",
    "                mochilas[i][w] = 0                \n",
    "            elif pesos[i-1] <= w:\n",
    "                mochilas[i][w] = max(valores[i-1] + mochilas[i-1][w-pesos[i-1]], mochilas[i-1][w])\n",
    "            else:\n",
    "                mochilas[i][w] = mochilas[i-1][w]\n",
    "    print(\"Matriz solución: \",mochilas)\n",
    "    return mochilas[n][pMochila]"
   ]
  },
  {
   "cell_type": "code",
   "execution_count": 9,
   "id": "024c7c20",
   "metadata": {},
   "outputs": [],
   "source": [
    "valores = [3000, 2000, 1500, 2000]\n",
    "pesos = [4, 3, 1, 1]\n",
    "pMochila = 4\n",
    "n = len(valores)"
   ]
  },
  {
   "cell_type": "code",
   "execution_count": 10,
   "id": "197a7e12",
   "metadata": {},
   "outputs": [
    {
     "name": "stdout",
     "output_type": "stream",
     "text": [
      "Matriz solución:  [[0, 0, 0, 0, 0], [0, 0, 0, 0, 3000], [0, 0, 0, 2000, 3000], [0, 1500, 1500, 2000, 3500], [0, 2000, 3500, 3500, 4000]]\n",
      "4000\n"
     ]
    }
   ],
   "source": [
    "print(knapsack(pMochila, pesos, valores, n))"
   ]
  },
  {
   "cell_type": "code",
   "execution_count": 7,
   "id": "b1a87e55",
   "metadata": {},
   "outputs": [],
   "source": [
    "valores = [1500, 3000, 2000, 2000]\n",
    "pesos = [1, 4, 3, 1]\n",
    "pMochila = 4\n",
    "n = len(valores)"
   ]
  },
  {
   "cell_type": "code",
   "execution_count": 8,
   "id": "973293c9",
   "metadata": {},
   "outputs": [
    {
     "name": "stdout",
     "output_type": "stream",
     "text": [
      "Matriz solución:  [[0, 0, 0, 0, 0], [0, 1500, 1500, 1500, 1500], [0, 1500, 1500, 1500, 3000], [0, 1500, 1500, 2000, 3500], [0, 2000, 3500, 3500, 4000]]\n",
      "4000\n"
     ]
    }
   ],
   "source": [
    "print(knapsack(pMochila, pesos, valores, n))"
   ]
  },
  {
   "cell_type": "code",
   "execution_count": 11,
   "id": "7bb976fc",
   "metadata": {},
   "outputs": [],
   "source": [
    "valores = [1500, 3000, 2000, 2000, 1000]\n",
    "pesos = [1, 4, 3, 1, 1]\n",
    "pMochila = 4\n",
    "n = len(valores)"
   ]
  },
  {
   "cell_type": "code",
   "execution_count": 12,
   "id": "1e23ed6b",
   "metadata": {},
   "outputs": [
    {
     "name": "stdout",
     "output_type": "stream",
     "text": [
      "Matriz solución:  [[0, 0, 0, 0, 0], [0, 1500, 1500, 1500, 1500], [0, 1500, 1500, 1500, 3000], [0, 1500, 1500, 2000, 3500], [0, 2000, 3500, 3500, 4000], [0, 2000, 3500, 4500, 4500]]\n",
      "4500\n"
     ]
    }
   ],
   "source": [
    "print(knapsack(pMochila, pesos, valores, n))"
   ]
  },
  {
   "cell_type": "code",
   "execution_count": 30,
   "id": "1702952a",
   "metadata": {},
   "outputs": [],
   "source": [
    "def knapsack2(pMochila, pesos, valores, n):\n",
    "    mochilas = [[0 for x in range(pMochila + 1)] for x in range(n + 1)]\n",
    "\n",
    "    for i in range(n + 1):\n",
    "        for w in range(pMochila + 1):\n",
    "            if i == 0 or w == 0:\n",
    "                mochilas[i][w] = 0                \n",
    "            elif pesos[i-1] <= w:\n",
    "                mochilas[i][w] = max(valores[i-1] + mochilas[i-1][w-pesos[i-1]], mochilas[i-1][w])\n",
    "            else:\n",
    "                mochilas[i][w] = mochilas[i-1][w]\n",
    "    print(\"Matriz solución: \",mochilas)\n",
    "    return mochilas[n][pMochila]"
   ]
  },
  {
   "cell_type": "code",
   "execution_count": 35,
   "id": "26ac09a3",
   "metadata": {},
   "outputs": [],
   "source": [
    "ratings = [7, 6, 9, 9, 8]\n",
    "time = [1, 1, 2, 4, 1]\n",
    "pMochila = 4\n",
    "n = len(valores)"
   ]
  },
  {
   "cell_type": "code",
   "execution_count": 36,
   "id": "bfb465ee",
   "metadata": {},
   "outputs": [
    {
     "name": "stdout",
     "output_type": "stream",
     "text": [
      "Matriz solución:  [[0, 0, 0, 0, 0], [0, 7, 7, 7, 7], [0, 7, 13, 13, 13], [0, 7, 13, 16, 22], [0, 7, 13, 16, 22], [0, 8, 15, 21, 24]]\n",
      "24\n"
     ]
    }
   ],
   "source": [
    "print(knapsack2(pMochila, time, ratings, n))"
   ]
  },
  {
   "cell_type": "code",
   "execution_count": 2,
   "id": "7054e12b",
   "metadata": {},
   "outputs": [],
   "source": [
    "valores = [42, 20, 34, 30, 60]\n",
    "pesos = [2, 1, 3, 1, 3]\n",
    "pMochila = 4\n",
    "n = len(valores)"
   ]
  },
  {
   "cell_type": "code",
   "execution_count": 3,
   "id": "ddd2ac8c",
   "metadata": {},
   "outputs": [
    {
     "name": "stdout",
     "output_type": "stream",
     "text": [
      "Matriz solución:  [[0, 0, 0, 0, 0], [0, 0, 42, 42, 42], [0, 20, 42, 62, 62], [0, 20, 42, 62, 62], [0, 30, 50, 72, 92], [0, 30, 50, 72, 92]]\n",
      "92\n"
     ]
    }
   ],
   "source": [
    "print(knapsack(pMochila, pesos, valores, n))"
   ]
  },
  {
   "cell_type": "code",
   "execution_count": null,
   "id": "a085c821",
   "metadata": {},
   "outputs": [],
   "source": []
  }
 ],
 "metadata": {
  "kernelspec": {
   "display_name": "Python 3 (ipykernel)",
   "language": "python",
   "name": "python3"
  },
  "language_info": {
   "codemirror_mode": {
    "name": "ipython",
    "version": 3
   },
   "file_extension": ".py",
   "mimetype": "text/x-python",
   "name": "python",
   "nbconvert_exporter": "python",
   "pygments_lexer": "ipython3",
   "version": "3.9.7"
  }
 },
 "nbformat": 4,
 "nbformat_minor": 5
}
