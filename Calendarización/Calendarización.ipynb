{
 "cells": [
  {
   "cell_type": "code",
   "execution_count": 26,
   "id": "0eacdaa8",
   "metadata": {},
   "outputs": [],
   "source": [
    "materias = {\n",
    "    \"CCNN\":{\n",
    "        \"inicio\" : 0,\n",
    "        \"fin\" : 1.5,\n",
    "    },\n",
    "    \"Literatura\":{\n",
    "        \"inicio\" : 1,\n",
    "        \"fin\" : 3,\n",
    "    },\n",
    "    \"Matemática\":{\n",
    "        \"inicio\" : 2.5,\n",
    "        \"fin\" : 4,\n",
    "    },\n",
    "    \"Física\":{\n",
    "        \"inicio\" : 4.5,\n",
    "        \"fin\" : 5.5,\n",
    "    },\n",
    "    \"Química\":{\n",
    "        \"inicio\" : 5,\n",
    "        \"fin\" : 7.5,\n",
    "    },\n",
    "    \"Computación\":{\n",
    "        \"inicio\" : 6,\n",
    "        \"fin\" : 8,\n",
    "    },\n",
    "    \"Arte\":{\n",
    "        \"inicio\" : 8,\n",
    "        \"fin\" : 9,\n",
    "    }\n",
    "}"
   ]
  },
  {
   "cell_type": "code",
   "execution_count": 27,
   "id": "6fba578d",
   "metadata": {},
   "outputs": [],
   "source": [
    "solucion = []\n",
    "finalAnterior = 0\n",
    "while(materias):\n",
    "    finPrimero = 0;\n",
    "    compatible = set()\n",
    "    incompatible = set()\n",
    "    for m in materias:\n",
    "        if (finPrimero == 0 or finPrimero > materias[m][\"fin\"]):\n",
    "            if(materias[m][\"inicio\"] >= finalAnterior):\n",
    "                finPrimero = finalAnterior = materias[m][\"fin\"]\n",
    "                inicioM = materias[m][\"inicio\"]\n",
    "                compatible = m\n",
    "            else:\n",
    "                incompatible = m\n",
    "    if(compatible):\n",
    "        materias.pop(compatible)\n",
    "        solucion.append(compatible) \n",
    "    elif(incompatible):\n",
    "        materias.pop(incompatible)"
   ]
  },
  {
   "cell_type": "code",
   "execution_count": 29,
   "id": "bd44a937",
   "metadata": {},
   "outputs": [
    {
     "name": "stdout",
     "output_type": "stream",
     "text": [
      "Intervalos seleccionados:  ['CCNN', 'Matemática', 'Física', 'Computación', 'Arte']\n"
     ]
    }
   ],
   "source": [
    "print(\"Intervalos seleccionados: \",solucion)"
   ]
  },
  {
   "cell_type": "code",
   "execution_count": null,
   "id": "b8fcc7e6",
   "metadata": {},
   "outputs": [],
   "source": []
  }
 ],
 "metadata": {
  "kernelspec": {
   "display_name": "Python 3 (ipykernel)",
   "language": "python",
   "name": "python3"
  },
  "language_info": {
   "codemirror_mode": {
    "name": "ipython",
    "version": 3
   },
   "file_extension": ".py",
   "mimetype": "text/x-python",
   "name": "python",
   "nbconvert_exporter": "python",
   "pygments_lexer": "ipython3",
   "version": "3.9.7"
  }
 },
 "nbformat": 4,
 "nbformat_minor": 5
}
