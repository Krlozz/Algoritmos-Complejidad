{
 "cells": [
  {
   "cell_type": "code",
   "execution_count": 49,
   "id": "7d0b5102-dbe0-4eb4-b9a6-7d465eeb605a",
   "metadata": {},
   "outputs": [],
   "source": [
    "preferencias_hospital = {\n",
    "    'm1' : ['w2', 'w1', 'w3', 'w5', 'w4'],\n",
    "    'm5' : ['w2', 'w4', 'w1', 'w5', 'w3'],\n",
    "    'm4' : ['w1', 'w4', 'w3', 'w2', 'w5'],\n",
    "    'm3' : ['w2', 'w5', 'w3', 'w4', 'w1'],\n",
    "    'm2' : ['w4', 'w2', 'w1', 'w3', 'w5'],\n",
    "}\n",
    " \n",
    "preferencias_estudiante = {\n",
    "    'w1' : ['m5', 'm1', 'm2', 'm4', 'm3'],\n",
    "    'w2' : ['m3', 'm2', 'm4', 'm5', 'm1'],\n",
    "    'w3' : ['m2', 'm3', 'm4', 'm5', 'm1'],\n",
    "    'w4' : ['m1', 'm5', 'm4', 'm3', 'm2'],\n",
    "    'w5' : ['Atlanta', 'Detroit', 'Chicago', 'Boston', 'El Paso'],\n",
    "}"
   ]
  },
  {
   "cell_type": "code",
   "execution_count": 50,
   "id": "bb0a5dfe-6b4f-4cb7-b344-261046c07e93",
   "metadata": {},
   "outputs": [],
   "source": [
    "parejas_temp = []\n",
    "hospital_libre = [hospital for hospital in list(preferencias_hospital.keys())]"
   ]
  },
  {
   "cell_type": "code",
   "execution_count": 51,
   "id": "2b7a0725",
   "metadata": {},
   "outputs": [],
   "source": [
    "def stableMatch():\n",
    "    while len(hospital_libre) > 0:\n",
    "        for hospital in hospital_libre:\n",
    "            for estudiante in preferencias_hospital[hospital]:\n",
    "                emparejado = [coincidencias for coincidencias in parejas_temp if estudiante in coincidencias]\n",
    "                if not emparejado:\n",
    "                    parejas_temp.append([hospital, estudiante])\n",
    "                    hospital_libre.remove(hospital)\n",
    "                    break\n",
    "                else:\n",
    "                    pareja_actual = preferencias_estudiante[estudiante].index(emparejado[0][0])\n",
    "                    pareja_potencial = preferencias_estudiante[estudiante].index(hospital)\n",
    "                    if pareja_potencial < pareja_actual:\n",
    "                        hospital_libre.remove(hospital)\n",
    "                        hospital_libre.append(emparejado[0][0])\n",
    "                        emparejado[0][0] = hospital\n",
    "                        break"
   ]
  },
  {
   "cell_type": "code",
   "execution_count": 52,
   "id": "259d1cd8",
   "metadata": {},
   "outputs": [
    {
     "name": "stdout",
     "output_type": "stream",
     "text": [
      "Emparajamientos finales:\n",
      "[['Chicago', 'Yolanda'], ['Boston', 'Xavier'], ['El Paso', 'Wayne'], ['Atlanta', 'Zeus'], ['Detroit', 'Val']]\n"
     ]
    }
   ],
   "source": [
    "stableMatch()\n",
    "print(f\"Emparajamientos finales:\\n{parejas_temp}\")"
   ]
  },
  {
   "cell_type": "code",
   "execution_count": null,
   "id": "e525b1bf",
   "metadata": {},
   "outputs": [],
   "source": []
  }
 ],
 "metadata": {
  "kernelspec": {
   "display_name": "Python 3 (ipykernel)",
   "language": "python",
   "name": "python3"
  },
  "language_info": {
   "codemirror_mode": {
    "name": "ipython",
    "version": 3
   },
   "file_extension": ".py",
   "mimetype": "text/x-python",
   "name": "python",
   "nbconvert_exporter": "python",
   "pygments_lexer": "ipython3",
   "version": "3.9.7"
  }
 },
 "nbformat": 4,
 "nbformat_minor": 5
}
