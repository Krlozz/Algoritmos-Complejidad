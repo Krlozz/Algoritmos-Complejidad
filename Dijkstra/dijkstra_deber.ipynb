{
 "cells": [
  {
   "cell_type": "code",
   "execution_count": 1,
   "id": "a99a583a",
   "metadata": {},
   "outputs": [
    {
     "name": "stdout",
     "output_type": "stream",
     "text": [
      "{'QUITO': {'AMBATO': 16, 'GUAYAQUIL': 4, 'STODOMINGO': 8}, 'AMBATO': {'ESMERALDAS': 2}, 'GUAYAQUIL': {'STODOMINGO': 3}, 'STODOMINGO': {'AMBATO': 7, 'MANTA': 1}, 'ESMERALDAS': {}, 'MANTA': {'AMBATO': 5, 'ESMERALDAS': 6}}\n"
     ]
    }
   ],
   "source": [
    "graph={}\n",
    "graph['QUITO'] = {'AMBATO':16, 'GUAYAQUIL':4, 'STODOMINGO':8}\n",
    "graph['AMBATO'] = {'ESMERALDAS':2}\n",
    "graph['GUAYAQUIL'] = {'STODOMINGO':3}\n",
    "graph['STODOMINGO'] = {'AMBATO':7, 'MANTA':1}\n",
    "graph['ESMERALDAS'] = {}\n",
    "graph['MANTA'] = {'AMBATO':5, 'ESMERALDAS':6}\n",
    "print(graph)"
   ]
  },
  {
   "cell_type": "code",
   "execution_count": 1,
   "id": "e5ad28a2",
   "metadata": {},
   "outputs": [
    {
     "name": "stdout",
     "output_type": "stream",
     "text": [
      "{'S': {'A': 3, 'B': 1, 'C': 2}, 'A': {'D': 3, 'E': 5}, 'B': {'D': 4}, 'C': {'G': 4, 'FIN': 8}, 'D': {'FIN': 2}, 'E': {}, 'G': {}, 'FIN': {}}\n"
     ]
    }
   ],
   "source": [
    "graph={}\n",
    "graph['S'] = {'A':3, 'B':1, 'C':2}\n",
    "graph['A'] = {'D':3,'E':5}\n",
    "graph['B'] = {'D':4}\n",
    "graph['C'] = {'G':4, 'FIN':8}\n",
    "graph['D'] = {'FIN':2}\n",
    "graph['E'] = {}\n",
    "graph['G'] = {}\n",
    "graph['FIN'] = {}\n",
    "print(graph)"
   ]
  },
  {
   "cell_type": "code",
   "execution_count": 2,
   "id": "84ace224",
   "metadata": {},
   "outputs": [],
   "source": [
    "infinity = float(\"inf\")\n",
    "costs = {}\n",
    "costs[\"AMBATO\"] = 16\n",
    "costs[\"GUAYAQUIL\"] = 4\n",
    "costs[\"STODOMINGO\"] = 8\n",
    "costs[\"ESMERALDAS\"] = infinity\n",
    "costs[\"MANTA\"] = infinity"
   ]
  },
  {
   "cell_type": "code",
   "execution_count": 2,
   "id": "2bb79bbd",
   "metadata": {},
   "outputs": [],
   "source": [
    "infinity = float(\"inf\")\n",
    "costs = {}\n",
    "costs[\"A\"] = 3\n",
    "costs[\"B\"] = 1\n",
    "costs[\"C\"] = 2\n",
    "costs[\"D\"] = infinity\n",
    "costs[\"E\"] = infinity\n",
    "costs[\"G\"] = infinity\n",
    "costs[\"FIN\"] = infinity"
   ]
  },
  {
   "cell_type": "code",
   "execution_count": 3,
   "id": "a431693c",
   "metadata": {},
   "outputs": [],
   "source": [
    "parents = {}\n",
    "parents[\"AMBATO\"] = \"QUITO\"\n",
    "parents[\"GUAYAQUIL\"] = \"QUITO\"\n",
    "parents[\"STODOMINGO\"] = \"QUITO\"\n",
    "parents[\"ESMERALDAS\"] = None\n",
    "parents[\"MANTA\"] = None"
   ]
  },
  {
   "cell_type": "code",
   "execution_count": 3,
   "id": "f4502aa2",
   "metadata": {},
   "outputs": [],
   "source": [
    "parents = {}\n",
    "parents[\"A\"] = \"S\"\n",
    "parents[\"B\"] = \"S\"\n",
    "parents[\"C\"] = \"S\"\n",
    "parents[\"D\"] = None\n",
    "parents[\"E\"] = None\n",
    "parents[\"G\"] = None\n",
    "parents[\"FIN\"] = None"
   ]
  },
  {
   "cell_type": "code",
   "execution_count": 4,
   "id": "91811bcd",
   "metadata": {},
   "outputs": [],
   "source": [
    "processed = [\"QUITO\"]"
   ]
  },
  {
   "cell_type": "code",
   "execution_count": 4,
   "id": "bc5dc1d7",
   "metadata": {},
   "outputs": [],
   "source": [
    "processed = [\"S\"]"
   ]
  },
  {
   "cell_type": "code",
   "execution_count": 5,
   "id": "71b5ffb3",
   "metadata": {},
   "outputs": [],
   "source": [
    "def find_lowest_cost_node(costs):\n",
    "    lowest_cost = float(\"inf\")\n",
    "    lowest_cost_node = None\n",
    "    for node in costs:\n",
    "        cost = costs[node]\n",
    "        if cost < lowest_cost and node not in processed:\n",
    "            lowest_cost = cost\n",
    "            lowest_cost_node = node\n",
    "    return lowest_cost_node"
   ]
  },
  {
   "cell_type": "code",
   "execution_count": 6,
   "id": "34bdbf3c",
   "metadata": {},
   "outputs": [
    {
     "name": "stdout",
     "output_type": "stream",
     "text": [
      "B\n"
     ]
    }
   ],
   "source": [
    "print(find_lowest_cost_node(costs))"
   ]
  },
  {
   "cell_type": "code",
   "execution_count": 7,
   "id": "dcd81d4d",
   "metadata": {},
   "outputs": [],
   "source": [
    "node = find_lowest_cost_node(costs)\n",
    "while node is not None:\n",
    "    cost = costs[node]\n",
    "    neighbors = graph[node]\n",
    "    for n in neighbors.keys():\n",
    "        new_cost = cost + neighbors[n]\n",
    "        if costs[n] > new_cost:\n",
    "            costs[n] = new_cost\n",
    "            parents[n] = node\n",
    "    processed.append(node)\n",
    "    node = find_lowest_cost_node(costs)"
   ]
  },
  {
   "cell_type": "code",
   "execution_count": 31,
   "id": "2e030eb9",
   "metadata": {},
   "outputs": [],
   "source": [
    "dic = {'st':3}"
   ]
  },
  {
   "cell_type": "code",
   "execution_count": 32,
   "id": "e800a231",
   "metadata": {},
   "outputs": [
    {
     "name": "stdout",
     "output_type": "stream",
     "text": [
      "dict_keys(['st'])\n"
     ]
    }
   ],
   "source": [
    "print(dic.keys())"
   ]
  },
  {
   "cell_type": "code",
   "execution_count": 36,
   "id": "5cf449cf",
   "metadata": {},
   "outputs": [
    {
     "name": "stdout",
     "output_type": "stream",
     "text": [
      "3\n"
     ]
    }
   ],
   "source": [
    "print(dic['st'])"
   ]
  },
  {
   "cell_type": "code",
   "execution_count": 40,
   "id": "2b90e44e",
   "metadata": {},
   "outputs": [
    {
     "name": "stdout",
     "output_type": "stream",
     "text": [
      "13\n"
     ]
    }
   ],
   "source": [
    "print(costs['AMBATO'])"
   ]
  },
  {
   "cell_type": "code",
   "execution_count": 9,
   "id": "5eebf800",
   "metadata": {},
   "outputs": [
    {
     "name": "stdout",
     "output_type": "stream",
     "text": [
      "['S', 'B', 'C', 'A', 'D', 'G', 'FIN', 'E'] test  {'A': 3, 'B': 1, 'C': 2, 'D': 5, 'E': 8, 'G': 6, 'FIN': 7} parent {'A': 'S', 'B': 'S', 'C': 'S', 'D': 'B', 'E': 'A', 'G': 'C', 'FIN': 'D'}\n"
     ]
    }
   ],
   "source": [
    "print(processed, 'test ', costs, 'parent', parents)"
   ]
  },
  {
   "cell_type": "code",
   "execution_count": 14,
   "id": "992d0ebe",
   "metadata": {},
   "outputs": [
    {
     "name": "stdout",
     "output_type": "stream",
     "text": [
      "QUITO -> GUAYAQUIL -> STODOMINGO -> MANTA -> AMBATO -> ESMERALDAS\n"
     ]
    }
   ],
   "source": [
    "print(\" -> \".join(processed))"
   ]
  },
  {
   "cell_type": "code",
   "execution_count": 8,
   "id": "a8265e35",
   "metadata": {},
   "outputs": [
    {
     "name": "stdout",
     "output_type": "stream",
     "text": [
      "{'A': 'S', 'B': 'S', 'C': 'S', 'D': 'B', 'E': 'A', 'G': 'C', 'FIN': 'D'}\n"
     ]
    }
   ],
   "source": [
    "print(parents)"
   ]
  },
  {
   "cell_type": "code",
   "execution_count": 9,
   "id": "e5fa6944",
   "metadata": {},
   "outputs": [
    {
     "name": "stdout",
     "output_type": "stream",
     "text": [
      "dict_keys(['AMBATO', 'GUAYAQUIL', 'STODOMINGO', 'ESMERALDAS', 'MANTA'])\n"
     ]
    }
   ],
   "source": [
    "print(parents.keys())"
   ]
  },
  {
   "cell_type": "code",
   "execution_count": 10,
   "id": "04f9a576",
   "metadata": {},
   "outputs": [
    {
     "name": "stdout",
     "output_type": "stream",
     "text": [
      "dict_values(['MANTA', 'QUITO', 'GUAYAQUIL', 'MANTA', 'STODOMINGO'])\n"
     ]
    }
   ],
   "source": [
    "print(parents.values())"
   ]
  },
  {
   "cell_type": "code",
   "execution_count": 11,
   "id": "8da5df67",
   "metadata": {},
   "outputs": [
    {
     "name": "stdout",
     "output_type": "stream",
     "text": [
      "dict_items([('AMBATO', 'MANTA'), ('GUAYAQUIL', 'QUITO'), ('STODOMINGO', 'GUAYAQUIL'), ('ESMERALDAS', 'MANTA'), ('MANTA', 'STODOMINGO')])\n"
     ]
    }
   ],
   "source": [
    "print(parents.items())"
   ]
  },
  {
   "cell_type": "code",
   "execution_count": 12,
   "id": "c6410c18",
   "metadata": {},
   "outputs": [
    {
     "name": "stdout",
     "output_type": "stream",
     "text": [
      "QUITO\n",
      "QUITO\n",
      "GUAYAQUIL\n",
      "STODOMINGO\n",
      "STODOMINGO\n",
      "QUITO -> GUAYAQUIL -> STODOMINGO -> MANTA\n"
     ]
    }
   ],
   "source": [
    "ini_temp = 'QUITO'\n",
    "path = ['QUITO']\n",
    "for key, value in parents.items():\n",
    "    #print(value)\n",
    "    #print(key)\n",
    "    print(ini_temp)\n",
    "    if ini_temp == value:\n",
    "        #print(value)\n",
    "        #print(key)\n",
    "        ini_temp = key\n",
    "        path.append(ini_temp)\n",
    "    #print(ini_temp)\n",
    "print(\" -> \".join(path))"
   ]
  },
  {
   "cell_type": "code",
   "execution_count": 13,
   "id": "9c493c11",
   "metadata": {},
   "outputs": [
    {
     "name": "stdout",
     "output_type": "stream",
     "text": [
      "QUITO -> GUAYAQUIL -> STODOMINGO -> MANTA\n"
     ]
    }
   ],
   "source": [
    "path2 = []\n",
    "for l in processed:\n",
    "    path2.append(l)\n",
    "    if l == \"MANTA\":\n",
    "        break\n",
    "print(\" -> \".join(path2))"
   ]
  },
  {
   "cell_type": "code",
   "execution_count": null,
   "id": "08725c00",
   "metadata": {},
   "outputs": [],
   "source": []
  },
  {
   "cell_type": "code",
   "execution_count": null,
   "id": "9b89a6dc",
   "metadata": {},
   "outputs": [],
   "source": []
  }
 ],
 "metadata": {
  "kernelspec": {
   "display_name": "Python 3 (ipykernel)",
   "language": "python",
   "name": "python3"
  },
  "language_info": {
   "codemirror_mode": {
    "name": "ipython",
    "version": 3
   },
   "file_extension": ".py",
   "mimetype": "text/x-python",
   "name": "python",
   "nbconvert_exporter": "python",
   "pygments_lexer": "ipython3",
   "version": "3.9.7"
  }
 },
 "nbformat": 4,
 "nbformat_minor": 5
}
