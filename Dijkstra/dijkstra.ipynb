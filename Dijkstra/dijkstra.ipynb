{
 "cells": [
  {
   "cell_type": "code",
   "execution_count": 1,
   "id": "5a669b65",
   "metadata": {
    "scrolled": true
   },
   "outputs": [
    {
     "name": "stdout",
     "output_type": "stream",
     "text": [
      "{'start': {'A': 6, 'B': 2}, 'A': {'fin': 1}, 'B': {'A': 3, 'fin': 5}, 'fin': {}}\n"
     ]
    }
   ],
   "source": [
    "graph={}\n",
    "graph['start'] = {'A':6, 'B':2}\n",
    "graph['A'] = {'fin':1}\n",
    "graph['B'] = {'A':3, 'fin':5}\n",
    "graph['fin'] = {}\n",
    "print(graph)"
   ]
  },
  {
   "cell_type": "code",
   "execution_count": 2,
   "id": "cfaba294",
   "metadata": {},
   "outputs": [],
   "source": [
    "infinity = float(\"inf\")\n",
    "costs = {}\n",
    "costs[\"A\"] = 6\n",
    "costs[\"B\"] = 2\n",
    "costs[\"fin\"] = infinity"
   ]
  },
  {
   "cell_type": "code",
   "execution_count": 3,
   "id": "dff36b42",
   "metadata": {},
   "outputs": [],
   "source": [
    "parents = {}\n",
    "parents[\"A\"] = \"start\"\n",
    "parents[\"B\"] = \"start\"\n",
    "parents[\"fin\"] = None"
   ]
  },
  {
   "cell_type": "code",
   "execution_count": 6,
   "id": "01c3013a",
   "metadata": {},
   "outputs": [],
   "source": [
    "processed = []"
   ]
  },
  {
   "cell_type": "code",
   "execution_count": 8,
   "id": "b8584593",
   "metadata": {},
   "outputs": [],
   "source": [
    "def find_lowest_cost_node(costs):\n",
    "    lowest_cost = float(\"inf\")\n",
    "    lowest_cost_node = None\n",
    "    for node in costs:\n",
    "        cost = costs[node]\n",
    "        if cost < lowest_cost and node not in processed:\n",
    "            lowest_cost = cost\n",
    "            lowest_cost_node = node\n",
    "    return lowest_cost_node"
   ]
  },
  {
   "cell_type": "code",
   "execution_count": 9,
   "id": "aa80100d",
   "metadata": {},
   "outputs": [],
   "source": [
    "node = find_lowest_cost_node(costs)\n",
    "while node is not None:\n",
    "    cost = costs[node]\n",
    "    neighbors = graph[node]\n",
    "    for n in neighbors.keys():\n",
    "        new_cost = cost + neighbors[n]\n",
    "        if costs[n] > new_cost:\n",
    "            costs[n] = new_cost\n",
    "            parents[n] = node\n",
    "    processed.append(node)\n",
    "    node = find_lowest_cost_node(costs)"
   ]
  },
  {
   "cell_type": "code",
   "execution_count": 10,
   "id": "8d3b7d62",
   "metadata": {},
   "outputs": [
    {
     "name": "stdout",
     "output_type": "stream",
     "text": [
      "['B', 'A', 'fin']\n"
     ]
    }
   ],
   "source": [
    "print(processed)"
   ]
  },
  {
   "cell_type": "code",
   "execution_count": null,
   "id": "94e2abd7",
   "metadata": {},
   "outputs": [],
   "source": []
  },
  {
   "cell_type": "code",
   "execution_count": null,
   "id": "fcb20093",
   "metadata": {},
   "outputs": [],
   "source": []
  },
  {
   "cell_type": "code",
   "execution_count": null,
   "id": "322249e9",
   "metadata": {},
   "outputs": [],
   "source": []
  }
 ],
 "metadata": {
  "kernelspec": {
   "display_name": "Python 3 (ipykernel)",
   "language": "python",
   "name": "python3"
  },
  "language_info": {
   "codemirror_mode": {
    "name": "ipython",
    "version": 3
   },
   "file_extension": ".py",
   "mimetype": "text/x-python",
   "name": "python",
   "nbconvert_exporter": "python",
   "pygments_lexer": "ipython3",
   "version": "3.9.7"
  }
 },
 "nbformat": 4,
 "nbformat_minor": 5
}
