{
 "cells": [
  {
   "cell_type": "code",
   "execution_count": 4,
   "id": "1fec40ff",
   "metadata": {},
   "outputs": [],
   "source": [
    "def quicksort(array):\n",
    "    print('array', array)\n",
    "    if len(array) < 2:\n",
    "        print('quicksort base case', array)\n",
    "        print()\n",
    "        return array\n",
    "    else:\n",
    "        pivot = array[0]\n",
    "        less = [i for i in array[1:] if i <= pivot]\n",
    "        greater = [i for i in array[1:] if i > pivot]\n",
    "\n",
    "        print('quicksortL', less)\n",
    "        print('pivot', pivot)\n",
    "        print('quicksortR', greater)\n",
    "\n",
    "        left = quicksort(less)\n",
    "        right = quicksort(greater)\n",
    "        pivot = [pivot]\n",
    "        \n",
    "        print('** retorno = ' + str(left) + '+' + str(pivot) + '+' + str(right))\n",
    "        print(left + pivot + right)\n",
    "\n",
    "        return left + pivot + right"
   ]
  },
  {
   "cell_type": "code",
   "execution_count": 5,
   "id": "e998ff82",
   "metadata": {},
   "outputs": [],
   "source": [
    "array = [7,5,2,3,10,8]"
   ]
  },
  {
   "cell_type": "code",
   "execution_count": 6,
   "id": "c2e86fbd",
   "metadata": {},
   "outputs": [
    {
     "name": "stdout",
     "output_type": "stream",
     "text": [
      "array [7, 5, 2, 3, 10, 8]\n",
      "quicksortL [5, 2, 3]\n",
      "pivot 7\n",
      "quicksortR [10, 8]\n",
      "array [5, 2, 3]\n",
      "quicksortL [2, 3]\n",
      "pivot 5\n",
      "quicksortR []\n",
      "array [2, 3]\n",
      "quicksortL []\n",
      "pivot 2\n",
      "quicksortR [3]\n",
      "array []\n",
      "quicksort base case []\n",
      "\n",
      "array [3]\n",
      "quicksort base case [3]\n",
      "\n",
      "** retorno = []+[2]+[3]\n",
      "[2, 3]\n",
      "array []\n",
      "quicksort base case []\n",
      "\n",
      "** retorno = [2, 3]+[5]+[]\n",
      "[2, 3, 5]\n",
      "array [10, 8]\n",
      "quicksortL [8]\n",
      "pivot 10\n",
      "quicksortR []\n",
      "array [8]\n",
      "quicksort base case [8]\n",
      "\n",
      "array []\n",
      "quicksort base case []\n",
      "\n",
      "** retorno = [8]+[10]+[]\n",
      "[8, 10]\n",
      "** retorno = [2, 3, 5]+[7]+[8, 10]\n",
      "[2, 3, 5, 7, 8, 10]\n"
     ]
    },
    {
     "data": {
      "text/plain": [
       "[2, 3, 5, 7, 8, 10]"
      ]
     },
     "execution_count": 6,
     "metadata": {},
     "output_type": "execute_result"
    }
   ],
   "source": [
    "quicksort(array)"
   ]
  },
  {
   "cell_type": "code",
   "execution_count": null,
   "id": "912792ec",
   "metadata": {},
   "outputs": [],
   "source": []
  }
 ],
 "metadata": {
  "kernelspec": {
   "display_name": "Python 3 (ipykernel)",
   "language": "python",
   "name": "python3"
  },
  "language_info": {
   "codemirror_mode": {
    "name": "ipython",
    "version": 3
   },
   "file_extension": ".py",
   "mimetype": "text/x-python",
   "name": "python",
   "nbconvert_exporter": "python",
   "pygments_lexer": "ipython3",
   "version": "3.9.7"
  }
 },
 "nbformat": 4,
 "nbformat_minor": 5
}
