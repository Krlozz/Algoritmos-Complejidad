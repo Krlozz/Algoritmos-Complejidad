{
 "cells": [
  {
   "cell_type": "code",
   "execution_count": 19,
   "id": "7d0b5102-dbe0-4eb4-b9a6-7d465eeb605a",
   "metadata": {},
   "outputs": [
    {
     "name": "stdout",
     "output_type": "stream",
     "text": [
      "Dealing with Ryan\n",
      "Ryan is tentatively matched to Lizzy\n",
      "Dealing with Blake\n",
      "Blake is tentatively matched to Sarah\n",
      "Dealing with Joe\n",
      "Sarah is already matched\n",
      "Sarah is satisfied with Blake\n",
      "Lizzy is already matched\n",
      "Lizzy is satisfied with Ryan\n",
      "Joe is tentatively matched to Daniella\n",
      "Dealing with Connor\n",
      "Lizzy is already matched\n",
      "Lizzy is satisfied with Ryan\n",
      "Sarah is already matched\n",
      "Sarah is satisfied with Blake\n",
      "Connor is tentatively matched to Zoey\n",
      "\n",
      "FINAL PAIRINGS : \n",
      "['Ryan', 'Lizzy'] ['Blake', 'Sarah'] ['Joe', 'Daniella'] ['Connor', 'Zoey']\n"
     ]
    }
   ],
   "source": [
    "preffered_ranking_men = {\n",
    "'Ryan' : ['Lizzy', 'Sarah', 'Zoey', 'Daniella'],\n",
    "'Joe' : ['Sarah', 'Lizzy', 'Daniella', 'Zoey'],\n",
    "'Blake' : ['Sarah', 'Daniella', 'Zoey', 'Lizzy'],\n",
    "'Connor' : ['Lizzy', 'Sarah', 'Zoey', 'Daniella'],\n",
    "}\n",
    " \n",
    "preffered_ranking_women = {\n",
    "'Lizzy' : ['Ryan', 'Blake', 'Joe', 'Connor'],\n",
    "'Sarah' : ['Ryan', 'Blake', 'Connor', 'Joe'],\n",
    "'Zoey' : ['Connor', 'Joe', 'Ryan', 'Blake'],\n",
    "'Daniella' : ['Ryan', 'Joe', 'Connor', 'Blake'],\n",
    "}\n",
    " \n",
    "tentative_matches = [] # To keep track of the tentative matchings\n",
    "free_men = [man for man in list(preffered_ranking_men.keys())] # Initialize the list of free men\n",
    " \n",
    "def stableMatch():\n",
    "## Run the algorithm till stable match terminates ##\n",
    "    while len(free_men) > 0:\n",
    "        for man in free_men:\n",
    "            begin_matching(man)\n",
    "\n",
    "def begin_matching(man):\n",
    "### This function takes a man as argument and matches him to a potential partner\n",
    "    print(f\"Dealing with {man}\")\n",
    "    for woman in preffered_ranking_men[man]:\n",
    "        taken_match = [pairing for pairing in tentative_matches if woman in pairing]\n",
    "\n",
    "        if not taken_match:\n",
    "            # if the woman is not taken, match her tentatively with the man\n",
    "            tentative_matches.append([man, woman])\n",
    "            free_men.remove(man)\n",
    "            print(f\"{man} is tentatively matched to {woman}\")\n",
    "            break\n",
    "\n",
    "        else:\n",
    "            print(f\"{woman} is already matched\")\n",
    "            current_partner = preffered_ranking_women[woman].index(taken_match[0][0])\n",
    "            potential_partner = preffered_ranking_women[woman].index(man)\n",
    "        ###Compare the ranking of the woman's current partner and the potential partner\n",
    "\n",
    "            if potential_partner < current_partner:\n",
    "                print(f\"{man} is more preffered than {taken_match[0][0]}\")\n",
    "                print(f\"Unpair {taken_match[0][0]} and {woman}. Now, {man} is tentatively matched to {woman}\")\n",
    "\n",
    "                # the potential guy is matched and the current guy is now free\n",
    "                free_men.remove(man)\n",
    "                free_men.append(taken_match[0][0])\n",
    "\n",
    "                taken_match[0][0] = man\n",
    "                break\n",
    "            else:\n",
    "                print(f\"{woman} is satisfied with {taken_match[0][0]}\")\n",
    "\n",
    "if __name__ == '__main__':\n",
    "    stableMatch()\n",
    "\n",
    "print(\"\\nFINAL PAIRINGS : \")\n",
    "print(*tentative_matches) # print out the final list of matchings"
   ]
  },
  {
   "cell_type": "code",
   "execution_count": null,
   "id": "bb0a5dfe-6b4f-4cb7-b344-261046c07e93",
   "metadata": {},
   "outputs": [],
   "source": []
  }
 ],
 "metadata": {
  "kernelspec": {
   "display_name": "Python 3 (ipykernel)",
   "language": "python",
   "name": "python3"
  },
  "language_info": {
   "codemirror_mode": {
    "name": "ipython",
    "version": 3
   },
   "file_extension": ".py",
   "mimetype": "text/x-python",
   "name": "python",
   "nbconvert_exporter": "python",
   "pygments_lexer": "ipython3",
   "version": "3.9.7"
  }
 },
 "nbformat": 4,
 "nbformat_minor": 5
}
