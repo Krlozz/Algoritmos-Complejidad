{
 "cells": [
  {
   "cell_type": "code",
   "execution_count": 1,
   "id": "9c44529a-d3ae-424e-8f66-a6645abd3ed3",
   "metadata": {},
   "outputs": [],
   "source": [
    "#Ejercicio 1"
   ]
  },
  {
   "cell_type": "code",
   "execution_count": 1,
   "id": "04f560ce-60f2-4ee4-8bbf-a038826ad042",
   "metadata": {},
   "outputs": [
    {
     "data": {
      "text/plain": [
       "1.0"
      ]
     },
     "execution_count": 1,
     "metadata": {},
     "output_type": "execute_result"
    }
   ],
   "source": [
    "3/3"
   ]
  },
  {
   "cell_type": "code",
   "execution_count": 3,
   "id": "ed4c44a4-a84e-4c7a-8db5-3b38f9da95c5",
   "metadata": {},
   "outputs": [
    {
     "data": {
      "text/plain": [
       "3"
      ]
     },
     "execution_count": 3,
     "metadata": {},
     "output_type": "execute_result"
    }
   ],
   "source": [
    "10 // 3"
   ]
  },
  {
   "cell_type": "code",
   "execution_count": 4,
   "id": "891df077-01d8-4c3e-ab84-aa0052bc31e5",
   "metadata": {},
   "outputs": [
    {
     "ename": "ZeroDivisionError",
     "evalue": "division by zero",
     "output_type": "error",
     "traceback": [
      "\u001b[1;31m---------------------------------------------------------------------------\u001b[0m",
      "\u001b[1;31mZeroDivisionError\u001b[0m                         Traceback (most recent call last)",
      "\u001b[1;32m~\\AppData\\Local\\Temp/ipykernel_924/530406163.py\u001b[0m in \u001b[0;36m<module>\u001b[1;34m\u001b[0m\n\u001b[1;32m----> 1\u001b[1;33m \u001b[1;36m10\u001b[0m\u001b[1;33m/\u001b[0m\u001b[1;36m0\u001b[0m\u001b[1;33m\u001b[0m\u001b[1;33m\u001b[0m\u001b[0m\n\u001b[0m",
      "\u001b[1;31mZeroDivisionError\u001b[0m: division by zero"
     ]
    }
   ],
   "source": [
    "10/0"
   ]
  },
  {
   "cell_type": "code",
   "execution_count": 5,
   "id": "5c62a5e4-db6d-4b00-880e-d2a6c6c2362f",
   "metadata": {},
   "outputs": [
    {
     "ename": "ZeroDivisionError",
     "evalue": "integer division or modulo by zero",
     "output_type": "error",
     "traceback": [
      "\u001b[1;31m---------------------------------------------------------------------------\u001b[0m",
      "\u001b[1;31mZeroDivisionError\u001b[0m                         Traceback (most recent call last)",
      "\u001b[1;32m~\\AppData\\Local\\Temp/ipykernel_924/3687597073.py\u001b[0m in \u001b[0;36m<module>\u001b[1;34m\u001b[0m\n\u001b[1;32m----> 1\u001b[1;33m \u001b[1;36m10\u001b[0m \u001b[1;33m//\u001b[0m \u001b[1;36m0\u001b[0m\u001b[1;33m\u001b[0m\u001b[1;33m\u001b[0m\u001b[0m\n\u001b[0m",
      "\u001b[1;31mZeroDivisionError\u001b[0m: integer division or modulo by zero"
     ]
    }
   ],
   "source": [
    "10 // 0"
   ]
  },
  {
   "cell_type": "code",
   "execution_count": 6,
   "id": "0658d498-056e-4048-beaa-e96e521d904b",
   "metadata": {},
   "outputs": [
    {
     "data": {
      "text/plain": [
       "0.0"
      ]
     },
     "execution_count": 6,
     "metadata": {},
     "output_type": "execute_result"
    }
   ],
   "source": [
    "0/10"
   ]
  },
  {
   "cell_type": "code",
   "execution_count": 7,
   "id": "74df8480-0b23-4747-a197-a552123424a4",
   "metadata": {},
   "outputs": [
    {
     "data": {
      "text/plain": [
       "0"
      ]
     },
     "execution_count": 7,
     "metadata": {},
     "output_type": "execute_result"
    }
   ],
   "source": [
    "0 // 10"
   ]
  },
  {
   "cell_type": "code",
   "execution_count": 3,
   "id": "ae401f8e-c529-4159-943b-23b862914df4",
   "metadata": {},
   "outputs": [],
   "source": [
    "#Ejercicio 2"
   ]
  },
  {
   "cell_type": "code",
   "execution_count": 4,
   "id": "b6d58bc3-7b04-4a96-ae6b-b7a950d1b86a",
   "metadata": {},
   "outputs": [
    {
     "data": {
      "text/plain": [
       "10.333333333333334"
      ]
     },
     "execution_count": 4,
     "metadata": {},
     "output_type": "execute_result"
    }
   ],
   "source": [
    "10 / 3 + 7"
   ]
  },
  {
   "cell_type": "code",
   "execution_count": 5,
   "id": "75721a12-8649-41f7-976d-77e7d2fccd6b",
   "metadata": {},
   "outputs": [
    {
     "data": {
      "text/plain": [
       "10"
      ]
     },
     "execution_count": 5,
     "metadata": {},
     "output_type": "execute_result"
    }
   ],
   "source": [
    "10 // 3 + 7"
   ]
  },
  {
   "cell_type": "code",
   "execution_count": 6,
   "id": "22e74282-003a-4c3f-b82f-f770a45db585",
   "metadata": {},
   "outputs": [
    {
     "data": {
      "text/plain": [
       "1.0"
      ]
     },
     "execution_count": 6,
     "metadata": {},
     "output_type": "execute_result"
    }
   ],
   "source": [
    "10 / (3 + 7)"
   ]
  },
  {
   "cell_type": "code",
   "execution_count": 7,
   "id": "aabb8a44-d1b5-4c74-a92c-3d33eb474788",
   "metadata": {},
   "outputs": [
    {
     "data": {
      "text/plain": [
       "0.3333333333333335"
      ]
     },
     "execution_count": 7,
     "metadata": {},
     "output_type": "execute_result"
    }
   ],
   "source": [
    "10 / 3 - 3"
   ]
  },
  {
   "cell_type": "code",
   "execution_count": 8,
   "id": "7db4e1c3-f319-4b75-b7d2-6b083226edc8",
   "metadata": {},
   "outputs": [
    {
     "ename": "ZeroDivisionError",
     "evalue": "division by zero",
     "output_type": "error",
     "traceback": [
      "\u001b[1;31m---------------------------------------------------------------------------\u001b[0m",
      "\u001b[1;31mZeroDivisionError\u001b[0m                         Traceback (most recent call last)",
      "\u001b[1;32m~\\AppData\\Local\\Temp/ipykernel_10128/4061176269.py\u001b[0m in \u001b[0;36m<module>\u001b[1;34m\u001b[0m\n\u001b[1;32m----> 1\u001b[1;33m \u001b[1;36m10\u001b[0m \u001b[1;33m/\u001b[0m \u001b[1;33m(\u001b[0m\u001b[1;36m3\u001b[0m \u001b[1;33m-\u001b[0m \u001b[1;36m3\u001b[0m\u001b[1;33m)\u001b[0m\u001b[1;33m\u001b[0m\u001b[1;33m\u001b[0m\u001b[0m\n\u001b[0m",
      "\u001b[1;31mZeroDivisionError\u001b[0m: division by zero"
     ]
    }
   ],
   "source": [
    "10 / (3 - 3)"
   ]
  },
  {
   "cell_type": "code",
   "execution_count": 9,
   "id": "5a8115d6-6141-4ed7-88a6-cf36df814c70",
   "metadata": {},
   "outputs": [
    {
     "ename": "ZeroDivisionError",
     "evalue": "integer division or modulo by zero",
     "output_type": "error",
     "traceback": [
      "\u001b[1;31m---------------------------------------------------------------------------\u001b[0m",
      "\u001b[1;31mZeroDivisionError\u001b[0m                         Traceback (most recent call last)",
      "\u001b[1;32m~\\AppData\\Local\\Temp/ipykernel_10128/622441992.py\u001b[0m in \u001b[0;36m<module>\u001b[1;34m\u001b[0m\n\u001b[1;32m----> 1\u001b[1;33m \u001b[1;36m10\u001b[0m \u001b[1;33m//\u001b[0m \u001b[1;33m(\u001b[0m\u001b[1;36m3\u001b[0m \u001b[1;33m-\u001b[0m \u001b[1;36m3\u001b[0m\u001b[1;33m)\u001b[0m\u001b[1;33m\u001b[0m\u001b[1;33m\u001b[0m\u001b[0m\n\u001b[0m",
      "\u001b[1;31mZeroDivisionError\u001b[0m: integer division or modulo by zero"
     ]
    }
   ],
   "source": [
    "10 // (3 - 3)"
   ]
  },
  {
   "cell_type": "code",
   "execution_count": 10,
   "id": "a3ad8392-da0c-459b-a0bd-9b18f390ad77",
   "metadata": {},
   "outputs": [],
   "source": [
    "#Ejercicio 3"
   ]
  },
  {
   "cell_type": "code",
   "execution_count": 9,
   "id": "1a103ff7-1311-40e8-9576-6cb1d000178b",
   "metadata": {},
   "outputs": [],
   "source": [
    "frase = 'My wife is a beatiful woman and my son a great student'"
   ]
  },
  {
   "cell_type": "code",
   "execution_count": 36,
   "id": "36fb57ba-1722-4ef7-8555-171af4053e91",
   "metadata": {},
   "outputs": [
    {
     "name": "stdout",
     "output_type": "stream",
     "text": [
      "My spouse is a beatiful person and my child great student\n"
     ]
    }
   ],
   "source": [
    "modificada1 = frase[0:3] + 'spouse' + frase[7:22] + 'person' + frase[27:35] + 'child' + frase[40:]    #manera manual, notación slice\n",
    "print(modificada1)"
   ]
  },
  {
   "cell_type": "code",
   "execution_count": 10,
   "id": "cd750a5c-3940-43da-9861-2dcc58331039",
   "metadata": {},
   "outputs": [
    {
     "name": "stdout",
     "output_type": "stream",
     "text": [
      "My spouse is a beatiful perchild and my child a great student\n"
     ]
    }
   ],
   "source": [
    "nueva_frase = frase.replace('wife','spouse')\n",
    "nueva_frase = nueva_frase.replace('woman','person')\n",
    "nueva_frase = nueva_frase.replace('son','child')\n",
    "print(nueva_frase)                                          #manera automática con función replace"
   ]
  },
  {
   "cell_type": "code",
   "execution_count": 7,
   "id": "1b89e138-3634-4869-9dbf-4de5bf1bceb3",
   "metadata": {},
   "outputs": [
    {
     "name": "stdout",
     "output_type": "stream",
     "text": [
      "My spouse is a beatiful person and my child a great student\n"
     ]
    }
   ],
   "source": [
    "text = \"My wife is a beatiful woman and my son a great student\"\n",
    "listText = text.split(\" \")\n",
    "words = { \"wife\":\"spouse\",\"husband\":\"spouse\",\n",
    "         \"man\":\"person\",\"woman\":\"person\",\n",
    "         \"daughter\":\"child\",\"son\":\"child\" }\n",
    "\n",
    "key_list = list(words.keys())\n",
    "val_list = list(words.values())\n",
    " \n",
    "for c in listText:\n",
    "    if c in key_list:\n",
    "        position = key_list.index(c)\n",
    "        listText[listText.index(c)] = val_list[position]\n",
    "        \n",
    "print(' '.join(listText))"
   ]
  },
  {
   "cell_type": "code",
   "execution_count": 17,
   "id": "4f2f9554-4b43-485f-aaae-e119d3a520bf",
   "metadata": {},
   "outputs": [],
   "source": [
    "#Ejercicio k-enésimo"
   ]
  },
  {
   "cell_type": "code",
   "execution_count": 18,
   "id": "e6fe9baa-4306-4448-951c-50c3e70c170d",
   "metadata": {},
   "outputs": [
    {
     "name": "stdout",
     "output_type": "stream",
     "text": [
      "[20, 16, 9, 8, 4, 3, 1]\n",
      "20\n"
     ]
    }
   ],
   "source": [
    "numeros = [16, 4, 9, 1, 3, 20, 8]\n",
    "ordenados = sorted(numeros, reverse=True)\n",
    "print(ordenados)\n",
    "print(ordenados[0])"
   ]
  },
  {
   "cell_type": "code",
   "execution_count": null,
   "id": "11c22141-43a0-4855-81d3-039cfaea7a09",
   "metadata": {},
   "outputs": [],
   "source": []
  }
 ],
 "metadata": {
  "kernelspec": {
   "display_name": "Python 3 (ipykernel)",
   "language": "python",
   "name": "python3"
  },
  "language_info": {
   "codemirror_mode": {
    "name": "ipython",
    "version": 3
   },
   "file_extension": ".py",
   "mimetype": "text/x-python",
   "name": "python",
   "nbconvert_exporter": "python",
   "pygments_lexer": "ipython3",
   "version": "3.9.7"
  }
 },
 "nbformat": 4,
 "nbformat_minor": 5
}
