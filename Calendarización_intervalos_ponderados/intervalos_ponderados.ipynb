{
 "cells": [
  {
   "cell_type": "code",
   "execution_count": 8,
   "id": "0562730a",
   "metadata": {},
   "outputs": [],
   "source": [
    "class Intervalo:\n",
    "    def __init__(self, ini, fin, benef):\n",
    "        self.ini = ini\n",
    "        self.fin = fin\n",
    "        self.benef = benef\n",
    "\n",
    "    def __repr__(self):\n",
    "        return str((self.ini, self.fin, self.benef))"
   ]
  },
  {
   "cell_type": "code",
   "execution_count": 9,
   "id": "cf73e278",
   "metadata": {},
   "outputs": [],
   "source": [
    "def calendarPonde(intervalos):\n",
    "\n",
    "    if not intervalos:\n",
    "        return 0\n",
    "\n",
    "    intervalos.sort(key=lambda x: x.ini)\n",
    "\n",
    "    n = len(intervalos)\n",
    "\n",
    "    p = [[] for _ in range(n)]\n",
    "    maxBenef = [0] * n\n",
    "\n",
    "    for i in range(n):\n",
    "        for j in range(i):\n",
    "            if intervalos[j].fin <= intervalos[i].ini and maxBenef[i] < maxBenef[j]:\n",
    "                p[i] = p[j].copy()\n",
    "                maxBenef[i] = maxBenef[j]\n",
    "\n",
    "        p[i].append(i)\n",
    "        maxBenef[i] += intervalos[i].benef\n",
    "\n",
    "    index = 0\n",
    "    for i in range(1, n):\n",
    "        if maxBenef[i] > maxBenef[index]:\n",
    "            index = i\n",
    "\n",
    "    print('Máximo beneficio: ', max(maxBenef))\n",
    "    print('Intervalos involucrados: ', end='')\n",
    "    for i in p[index]:\n",
    "        print(intervalos[i], end=' ')"
   ]
  },
  {
   "cell_type": "code",
   "execution_count": 10,
   "id": "0cf312f4",
   "metadata": {},
   "outputs": [
    {
     "name": "stdout",
     "output_type": "stream",
     "text": [
      "Máximo beneficio:  8\n",
      "Intervalos involucrados: (1, 7, 2) (8, 12, 4) (13, 18, 2) "
     ]
    }
   ],
   "source": [
    "if __name__ == '__main__':\n",
    "\n",
    "    intervalos = [\n",
    "        Intervalo(1, 7, 2),\n",
    "        Intervalo(2, 10, 4),\n",
    "        Intervalo(8, 12, 4),\n",
    "        Intervalo(3, 15, 7),\n",
    "        Intervalo(13, 18, 2),\n",
    "        Intervalo(14, 19, 1)\n",
    "    ]\n",
    "\n",
    "    calendarPonde(intervalos)"
   ]
  },
  {
   "cell_type": "code",
   "execution_count": null,
   "id": "43ab6fcf",
   "metadata": {},
   "outputs": [],
   "source": []
  }
 ],
 "metadata": {
  "kernelspec": {
   "display_name": "Python 3 (ipykernel)",
   "language": "python",
   "name": "python3"
  },
  "language_info": {
   "codemirror_mode": {
    "name": "ipython",
    "version": 3
   },
   "file_extension": ".py",
   "mimetype": "text/x-python",
   "name": "python",
   "nbconvert_exporter": "python",
   "pygments_lexer": "ipython3",
   "version": "3.9.7"
  }
 },
 "nbformat": 4,
 "nbformat_minor": 5
}
