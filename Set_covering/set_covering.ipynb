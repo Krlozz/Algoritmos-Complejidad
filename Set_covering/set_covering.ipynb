{
 "cells": [
  {
   "cell_type": "code",
   "execution_count": 7,
   "id": "46389d4a",
   "metadata": {},
   "outputs": [],
   "source": [
    "states_needed = set([\"mt\",\"wa\",\"or\",\"id\",\"nv\",\"ut\",\"ca\",\"az\"])\n",
    "\n",
    "stations = {}\n",
    "stations[\"kone\"] = set([\"id\",\"nv\",\"ut\"])\n",
    "stations[\"ktwo\"] = set([\"wa\",\"id\",\"mt\"])\n",
    "stations[\"kthree\"] = set([\"or\",\"nv\",\"ca\"])\n",
    "stations[\"kfour\"] = set([\"nv\",\"ut\"])\n",
    "stations[\"kfive\"] = set([\"ca\",\"az\"])\n",
    "\n",
    "final_stations = set()\n",
    "\n",
    "while states_needed:\n",
    "    best_station = None\n",
    "    states_covered = set()\n",
    "    for station, states in stations.items():\n",
    "        covered = states_needed & states\n",
    "        if len(covered) > len(states_covered):\n",
    "            best_station = station\n",
    "            states_covered = covered\n",
    "\n",
    "    states_needed -= states_covered  #diferencia de conjuntos\n",
    "    final_stations.add(best_station)"
   ]
  },
  {
   "cell_type": "code",
   "execution_count": 8,
   "id": "d94abdc3",
   "metadata": {},
   "outputs": [
    {
     "name": "stdout",
     "output_type": "stream",
     "text": [
      "{'kthree', 'kone', 'kfive', 'ktwo'}\n"
     ]
    }
   ],
   "source": [
    "print(final_stations)"
   ]
  }
 ],
 "metadata": {
  "kernelspec": {
   "display_name": "Python 3 (ipykernel)",
   "language": "python",
   "name": "python3"
  },
  "language_info": {
   "codemirror_mode": {
    "name": "ipython",
    "version": 3
   },
   "file_extension": ".py",
   "mimetype": "text/x-python",
   "name": "python",
   "nbconvert_exporter": "python",
   "pygments_lexer": "ipython3",
   "version": "3.9.7"
  }
 },
 "nbformat": 4,
 "nbformat_minor": 5
}
