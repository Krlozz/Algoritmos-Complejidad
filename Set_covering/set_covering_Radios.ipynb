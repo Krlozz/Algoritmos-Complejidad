{
 "cells": [
  {
   "cell_type": "code",
   "execution_count": 16,
   "id": "d53ba551",
   "metadata": {},
   "outputs": [],
   "source": [
    "ciudades_necesitados = set([\"uio\",\"gye\",\"cue\",\"lat\",\"rio\",\"std\",\"ban\",\"ten\",\"pil\",\"man\",\"esm\"])\n",
    "\n",
    "estaciones = {}\n",
    "estaciones[\"Canela\"] = set([\"uio\",\"ban\",\"ten\",\"esm\",\"lat\"])\n",
    "estaciones[\"LaOtra\"] = set([\"rio\",\"std\",\"ten\"])\n",
    "estaciones[\"America\"] = set([\"ten\",\"man\",\"esm\"])\n",
    "estaciones[\"Galaxia\"] = set([\"uio\",\"std\",\"pil\",\"man\",\"esm\"])\n",
    "estaciones[\"Caravana\"] = set([\"cue\",\"lat\",\"ban\"])\n",
    "estaciones[\"Tukka\"] = set([\"rio\",\"std\",\"ban\",\"man\"])\n",
    "estaciones[\"Mega\"] = set([\"uio\",\"gye\",\"cue\"])\n",
    "estaciones[\"Armonica\"] = set([\"rio\",\"std\",\"pil\"])\n",
    "\n",
    "estaciones_finales = set()\n",
    "\n",
    "while ciudades_necesitados:\n",
    "    mejor_estacion = None\n",
    "    estaciones_cubiertas = set()\n",
    "    for estacion, ciudades in estaciones.items():\n",
    "        cubierta = ciudades_necesitados & ciudades\n",
    "        if len(cubierta) > len(estaciones_cubiertas):\n",
    "            mejor_estacion = estacion\n",
    "            estaciones_cubiertas = cubierta\n",
    "\n",
    "    ciudades_necesitados -= estaciones_cubiertas  #diferencia de conjuntos\n",
    "    estaciones_finales.add(mejor_estacion)"
   ]
  },
  {
   "cell_type": "code",
   "execution_count": 18,
   "id": "d5edd615",
   "metadata": {},
   "outputs": [
    {
     "name": "stdout",
     "output_type": "stream",
     "text": [
      "Mejores estaciones:  {'Canela', 'Galaxia', 'LaOtra', 'Mega'}\n"
     ]
    }
   ],
   "source": [
    "print(\"Mejores estaciones: \",estaciones_finales)"
   ]
  },
  {
   "cell_type": "code",
   "execution_count": null,
   "id": "a9e9f458",
   "metadata": {},
   "outputs": [],
   "source": []
  }
 ],
 "metadata": {
  "kernelspec": {
   "display_name": "Python 3 (ipykernel)",
   "language": "python",
   "name": "python3"
  },
  "language_info": {
   "codemirror_mode": {
    "name": "ipython",
    "version": 3
   },
   "file_extension": ".py",
   "mimetype": "text/x-python",
   "name": "python",
   "nbconvert_exporter": "python",
   "pygments_lexer": "ipython3",
   "version": "3.9.7"
  }
 },
 "nbformat": 4,
 "nbformat_minor": 5
}
