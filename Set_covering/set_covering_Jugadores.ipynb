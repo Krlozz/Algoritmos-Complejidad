{
 "cells": [
  {
   "cell_type": "code",
   "execution_count": 4,
   "id": "bf727da9",
   "metadata": {},
   "outputs": [],
   "source": [
    "habilidades_necesitados = set([\"fuerza\",\"poder\",\"evaluar\",\"control\",\"precision\",\"conocimiento\",\"pasion\",\"coordinacion\",\"equilibrio\"\n",
    "                            ,\"automotivacion\",\"fisico\"])\n",
    "\n",
    "jugadores = {}\n",
    "jugadores[\"Alexis\"] = set([\"poder\",\"control\",\"precision\"])\n",
    "jugadores[\"Victor\"] = set([\"fuerza\",\"conocimiento\",\"fisico\"])\n",
    "jugadores[\"Marco\"] = set([\"evaluar\",\"pasion\",\"coordinacion\"])\n",
    "jugadores[\"Marco\"] = set([\"equilibrio\",\"fisico\"])\n",
    "jugadores[\"Roberto\"] = set([\"evaluar\",\"precision\",\"coordinacion\"])\n",
    "jugadores[\"Edison\"] = set([\"control\",\"automotivacion\",\"fisico\",\"fuerza\"])\n",
    "jugadores[\"Antony\"] = set([\"evaluar\",\"precision\",\"equilibrio\"])\n",
    "jugadores[\"Jeff\"] = set([\"poder\",\"control\",\"precision\"])\n",
    "jugadores[\"Mateo\"] = set([\"conocimiento\",\"pasion\",\"equilibrio\"])\n",
    "jugadores[\"Miguel\"] = set([\"fuerza\",\"poder\"])\n",
    "\n",
    "jugadores_finales = set()\n",
    "\n",
    "while habilidades_necesitados:\n",
    "    mejor_jugador = None\n",
    "    jugadores_cubiertas = set()\n",
    "    for jugador, habilidades in jugadores.items():\n",
    "        cubierta = habilidades_necesitados & habilidades\n",
    "        if len(cubierta) > len(jugadores_cubiertas):\n",
    "            mejor_jugador = jugador\n",
    "            jugadores_cubiertas = cubierta\n",
    "\n",
    "    habilidades_necesitados -= jugadores_cubiertas  #diferencia de conjuntos\n",
    "    jugadores_finales.add(mejor_jugador)"
   ]
  },
  {
   "cell_type": "code",
   "execution_count": 5,
   "id": "b8180a63",
   "metadata": {},
   "outputs": [
    {
     "name": "stdout",
     "output_type": "stream",
     "text": [
      "Mejores jugadores:  {'Edison', 'Roberto', 'Mateo', 'Alexis'}\n"
     ]
    }
   ],
   "source": [
    "print(\"Mejores jugadores: \",jugadores_finales)"
   ]
  },
  {
   "cell_type": "code",
   "execution_count": null,
   "id": "69bc5dc3",
   "metadata": {},
   "outputs": [],
   "source": []
  }
 ],
 "metadata": {
  "kernelspec": {
   "display_name": "Python 3 (ipykernel)",
   "language": "python",
   "name": "python3"
  },
  "language_info": {
   "codemirror_mode": {
    "name": "ipython",
    "version": 3
   },
   "file_extension": ".py",
   "mimetype": "text/x-python",
   "name": "python",
   "nbconvert_exporter": "python",
   "pygments_lexer": "ipython3",
   "version": "3.9.7"
  }
 },
 "nbformat": 4,
 "nbformat_minor": 5
}
